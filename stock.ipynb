{
 "cells": [
  {
   "cell_type": "code",
   "execution_count": 1,
   "metadata": {},
   "outputs": [],
   "source": [
    "import pandas as pd\n",
    "import numpy as np\n",
    "import datetime\n",
    "\n"
   ]
  },
  {
   "cell_type": "code",
   "execution_count": 2,
   "metadata": {},
   "outputs": [],
   "source": [
    "def update_myaccount():\n",
    "    new_df1 = pd.read_csv(\".\\\\data\\\\mydata.csv\")\n",
    "    today = datetime.date.today().strftime('%Y-%m-%d')\n",
    "    if new_df1['date'].to_numpy()[-1] == today : \n",
    "        print('{} 데이터가 존재합니다. '.format(today))\n",
    "        return\n",
    "    df = pd.read_csv(\"today.csv\", encoding='CP949')\n",
    "    df1= df.drop(['미결제수량','Unnamed: 10',\t'국가',\t'Unnamed: 12','매입환율','손익분기매입가\\r\\n(외화)','가매도수수료\\r\\n(외화)'],axis=1)\n",
    "    for i in range(1, df1.index.size -1,2 ):\n",
    "        temp_df = pd.concat((pd.DataFrame(df1.values[i]) , pd.DataFrame(df1.values[i+1]))).T\n",
    "        temp_df.columns = [ i for i in range( 0, 12 ) ]\n",
    "        if i == 1:\n",
    "            total_df = temp_df\n",
    "        else:\n",
    "            total_df = pd.merge(total_df,temp_df,how='outer')\n",
    "\n",
    "    total_df = total_df.drop(11,axis=1)\n",
    "    total_df = total_df.drop(8,axis=1)\n",
    "    colums = ['종목명','평가손익', '잔고수량', '매입가', '매입금액', '보유비중','종목코드' , '평가수익률' , '현재가' ,'평가금액'   ]\n",
    "    total_df.columns = colums\n",
    "    total_df = total_df[['종목명','종목코드', '보유비중', '현재가' , '평가손익','평가수익률' ,'평가금액', '잔고수량', '매입가', '매입금액'  ]]\n",
    "    total_df['date'] = [ [today] * len(total_df['종목명'])][0]\n",
    "    new_df1 = pd.concat([new_df1, total_df])\n",
    "    new_df1= new_df1.reset_index(drop=True)\n",
    "    print(new_df1)\n",
    "    new_df1.to_csv(\".\\\\data\\\\mydata.csv\", index=False)"
   ]
  },
  {
   "cell_type": "code",
   "execution_count": 3,
   "metadata": {},
   "outputs": [
    {
     "name": "stdout",
     "output_type": "stream",
     "text": [
      "2022-04-13 데이터가 존재합니다. \n"
     ]
    }
   ],
   "source": [
    "update_myaccount()"
   ]
  }
 ],
 "metadata": {
  "interpreter": {
   "hash": "05d86e2708ef7bdefdec45a4d6c2b1e599e3ca81e3a49624ee834946856179ef"
  },
  "kernelspec": {
   "display_name": "Python 3.7.11 ('magic')",
   "language": "python",
   "name": "python3"
  },
  "language_info": {
   "codemirror_mode": {
    "name": "ipython",
    "version": 3
   },
   "file_extension": ".py",
   "mimetype": "text/x-python",
   "name": "python",
   "nbconvert_exporter": "python",
   "pygments_lexer": "ipython3",
   "version": "3.7.11"
  },
  "orig_nbformat": 4
 },
 "nbformat": 4,
 "nbformat_minor": 2
}
