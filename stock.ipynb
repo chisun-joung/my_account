{
 "cells": [
  {
   "cell_type": "code",
   "execution_count": 1,
   "metadata": {},
   "outputs": [],
   "source": [
    "import pandas as pd\n",
    "import numpy as np\n",
    "import datetime\n",
    "\n"
   ]
  },
  {
   "cell_type": "code",
   "execution_count": 2,
   "metadata": {},
   "outputs": [],
   "source": [
    "def update_myaccount():\n",
    "    new_df1 = pd.read_csv(\".\\\\data\\\\mydata.csv\")\n",
    "    today = datetime.date.today().strftime('%Y-%m-%d')\n",
    "    if new_df1['date'].to_numpy()[-1] == today : \n",
    "        print('{} 데이터가 존재합니다. '.format(today))\n",
    "        return\n",
    "    df = pd.read_csv(\"today.csv\", encoding='CP949')\n",
    "    df1= df.drop(['미결제수량','Unnamed: 10',\t'국가',\t'Unnamed: 12','매입환율','손익분기매입가\\r\\n(외화)','가매도수수료\\r\\n(외화)'],axis=1)\n",
    "    for i in range(1, df1.index.size -1,2 ):\n",
    "        temp_df = pd.concat((pd.DataFrame(df1.values[i]) , pd.DataFrame(df1.values[i+1]))).T\n",
    "        temp_df.columns = [ i for i in range( 0, 12 ) ]\n",
    "        if i == 1:\n",
    "            total_df = temp_df\n",
    "        else:\n",
    "            total_df = pd.merge(total_df,temp_df,how='outer')\n",
    "\n",
    "    total_df = total_df.drop(11,axis=1)\n",
    "    total_df = total_df.drop(8,axis=1)\n",
    "    colums = ['종목명','평가손익', '잔고수량', '매입가', '매입금액', '보유비중','종목코드' , '평가수익률' , '현재가' ,'평가금액'   ]\n",
    "    total_df.columns = colums\n",
    "    total_df = total_df[['종목명','종목코드', '보유비중', '현재가' , '평가손익','평가수익률' ,'평가금액', '잔고수량', '매입가', '매입금액'  ]]\n",
    "    total_df['date'] = [ [today] * len(total_df['종목명'])][0]\n",
    "    new_df1 = pd.concat([new_df1, total_df])\n",
    "    new_df1= new_df1.reset_index(drop=True)\n",
    "    print(new_df1)\n",
    "    new_df1.to_csv(\".\\\\data\\\\mydata.csv\", index=False)"
   ]
  },
  {
   "cell_type": "code",
   "execution_count": 3,
   "metadata": {},
   "outputs": [
    {
     "name": "stdout",
     "output_type": "stream",
     "text": [
      "                          종목명    종목코드  보유비중     현재가   평가손익  평가수익률    평가금액  \\\n",
      "0                          애플    AAPL  9.3%  169.79  19.96   4.08  509.37   \n",
      "1                        코카콜라      KO  9.3%    63.9  12.28   2.46   511.2   \n",
      "2                     알트리아 그룹      MO  8.9%   54.11  19.48   4.17  486.99   \n",
      "3                        AT&T       T  8.8%   24.15   5.23   1.09   483.0   \n",
      "4                    U.S. 뱅코프     USB  8.6%   52.54 -28.53   -5.7  472.86   \n",
      "..                        ...     ...   ...     ...    ...    ...     ...   \n",
      "140  퍼블릭 스토리지(J2PSA 5.6 PERP)  PSA_PH  0.9%   25.34  -0.91  -1.76   50.68   \n",
      "141                  Allstate  ALL_PI  0.8%   23.08  -1.84  -3.84   46.16   \n",
      "142                   아레스 캐피털    ARCC  0.8%   22.04   0.35   0.80   44.08   \n",
      "143                  허큘리스 캐피털    HTGC  0.7%   18.75   1.40   3.88   37.50   \n",
      "144       INVSC PREFERRED ETF     PGX  0.5%   12.89  -1.50  -5.50   25.78   \n",
      "\n",
      "    잔고수량     매입가    매입금액        date  \n",
      "0      3  162.83   488.5  2022-04-11  \n",
      "1      8   62.25   498.0  2022-04-11  \n",
      "2      9   51.84  466.64  2022-04-11  \n",
      "3     20   23.84   476.9  2022-04-11  \n",
      "4      9   55.61  500.49  2022-04-11  \n",
      "..   ...     ...     ...         ...  \n",
      "140    2   25.74   51.49  2022-04-16  \n",
      "141    2   23.95   47.91  2022-04-16  \n",
      "142    2   21.82   43.64  2022-04-16  \n",
      "143    2   18.01   36.02  2022-04-16  \n",
      "144    2   13.61   27.23  2022-04-16  \n",
      "\n",
      "[145 rows x 11 columns]\n"
     ]
    }
   ],
   "source": [
    "update_myaccount()"
   ]
  }
 ],
 "metadata": {
  "interpreter": {
   "hash": "05d86e2708ef7bdefdec45a4d6c2b1e599e3ca81e3a49624ee834946856179ef"
  },
  "kernelspec": {
   "display_name": "Python 3.7.11 ('magic')",
   "language": "python",
   "name": "python3"
  },
  "language_info": {
   "codemirror_mode": {
    "name": "ipython",
    "version": 3
   },
   "file_extension": ".py",
   "mimetype": "text/x-python",
   "name": "python",
   "nbconvert_exporter": "python",
   "pygments_lexer": "ipython3",
   "version": "3.7.11"
  },
  "orig_nbformat": 4
 },
 "nbformat": 4,
 "nbformat_minor": 2
}
